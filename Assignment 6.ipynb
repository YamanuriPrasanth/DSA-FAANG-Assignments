{
 "cells": [
  {
   "cell_type": "markdown",
   "id": "166fb39f",
   "metadata": {},
   "source": [
    "**Create a buildHeap method that returns a minheap.**"
   ]
  },
  {
   "cell_type": "code",
   "execution_count": 1,
   "id": "af28888f",
   "metadata": {},
   "outputs": [
    {
     "name": "stdout",
     "output_type": "stream",
     "text": [
      "[1, 3, 7, 8, 12, 18, 22, 27, 9, 16, 10]\n"
     ]
    }
   ],
   "source": [
    "def heapify(arr, n, i):\n",
    "    smallest = i\n",
    "    left_child = 2*i + 1\n",
    "    right_child = 2*i + 2\n",
    "    if left_child < n and arr[left_child] < arr[smallest]:\n",
    "        arr[left_child], arr[smallest] = arr[smallest], arr[left_child]\n",
    "        heapify(arr, n, left_child)\n",
    "    elif right_child < n and arr[right_child] < arr[smallest]:\n",
    "        arr[right_child], arr[smallest] = arr[smallest], arr[right_child]\n",
    "        heapify(arr, n, right_child)\n",
    "    else:\n",
    "        return\n",
    "    \n",
    "def buildHeap(arr, n):\n",
    "    for i in range(n // 2 - 1, -1, -1):\n",
    "        heapify(arr, n, i)\n",
    "\n",
    "arr = [1, 3, 7, 8, 16, 18, 22, 27, 9, 12, 10,]\n",
    "n = len(arr)\n",
    "buildHeap(arr, n)\n",
    "print(arr)"
   ]
  },
  {
   "cell_type": "markdown",
   "id": "0da48bfd",
   "metadata": {},
   "source": [
    "**Given an array of strings words and an integer k, return the k most frequent words.\n",
    "Your output should be in lexicographical order.**\n"
   ]
  },
  {
   "cell_type": "code",
   "execution_count": 2,
   "id": "6762a479",
   "metadata": {},
   "outputs": [
    {
     "name": "stdout",
     "output_type": "stream",
     "text": [
      "['arpit', 'priya', 'akshay']\n"
     ]
    }
   ],
   "source": [
    "from heapq import nsmallest\n",
    "def frequent(words,k):\n",
    "    #words.sort()\n",
    "    d={}\n",
    "    for i in words:\n",
    "        if i not in d:\n",
    "            d[i]=1\n",
    "        else:\n",
    "            d[i]+=1\n",
    "            \n",
    "    return nsmallest(k,d.keys(),key=lambda x:(-d[x],x))\n",
    "    \n",
    "    \n",
    "    \n",
    "#Driver code\n",
    "words = ['priya', 'bhatia', 'akshay', 'arpit', 'priya', 'arpit']\n",
    "k = 3\n",
    "print(frequent(words,k))"
   ]
  },
  {
   "cell_type": "markdown",
   "id": "78dfb5ca",
   "metadata": {},
   "source": [
    "**Find the k closest points to the origin.**"
   ]
  },
  {
   "cell_type": "code",
   "execution_count": 3,
   "id": "e204e059",
   "metadata": {},
   "outputs": [
    {
     "name": "stdout",
     "output_type": "stream",
     "text": [
      "[[-2, 2]]\n"
     ]
    }
   ],
   "source": [
    "import math\n",
    "from heapq import heappush,heappop\n",
    "\n",
    "def distance(x,y):\n",
    "    return math.sqrt(x**2+y**2)\n",
    "\n",
    "def KClosest(points,k):\n",
    "    heap=[]\n",
    "    for i in range(len(points)):\n",
    "        x=points[i][0]\n",
    "        y=points[i][1]\n",
    "        heappush(heap,(distance(x,y),points[i]))\n",
    "    result=[]\n",
    "    \n",
    "    for i in range(k):\n",
    "        result.append(heappop(heap)[1])\n",
    "    return result    \n",
    "\n",
    "#Driver code\n",
    "points = [[1, 3], [-2, 2]]\n",
    "k = 1\n",
    "print(KClosest(points,k))\n"
   ]
  },
  {
   "cell_type": "code",
   "execution_count": null,
   "id": "c52f71bf",
   "metadata": {},
   "outputs": [],
   "source": []
  }
 ],
 "metadata": {
  "kernelspec": {
   "display_name": "Python 3 (ipykernel)",
   "language": "python",
   "name": "python3"
  },
  "language_info": {
   "codemirror_mode": {
    "name": "ipython",
    "version": 3
   },
   "file_extension": ".py",
   "mimetype": "text/x-python",
   "name": "python",
   "nbconvert_exporter": "python",
   "pygments_lexer": "ipython3",
   "version": "3.9.12"
  }
 },
 "nbformat": 4,
 "nbformat_minor": 5
}
