{
 "cells": [
  {
   "cell_type": "markdown",
   "id": "6c6cba09",
   "metadata": {},
   "source": [
    "**Square root**\n"
   ]
  },
  {
   "cell_type": "code",
   "execution_count": 1,
   "id": "504812b7",
   "metadata": {},
   "outputs": [
    {
     "name": "stdout",
     "output_type": "stream",
     "text": [
      "2\n"
     ]
    }
   ],
   "source": [
    "def sqrt(x):\n",
    "    if x == 0 or x == 1:\n",
    "        return x\n",
    "    start = 1\n",
    "    end = x\n",
    "    while start <= end:\n",
    "        mid = start + (end-start)// 2\n",
    "        if mid * mid == x:\n",
    "            return mid\n",
    "        elif mid * mid < x:\n",
    "            start = mid + 1\n",
    "            ans = mid\n",
    "        else:\n",
    "            end = mid - 1\n",
    "    return ans\n",
    "\n",
    "#Driver code\n",
    "print(sqrt(5))"
   ]
  },
  {
   "cell_type": "markdown",
   "id": "be274cd1",
   "metadata": {},
   "source": [
    "**Time complexity is O(logn) for above square root code**"
   ]
  },
  {
   "cell_type": "markdown",
   "id": "e55d0ed1",
   "metadata": {},
   "source": [
    "**Bad Version**"
   ]
  },
  {
   "cell_type": "code",
   "execution_count": 2,
   "id": "9b9032ee",
   "metadata": {},
   "outputs": [
    {
     "name": "stdout",
     "output_type": "stream",
     "text": [
      "3\n"
     ]
    }
   ],
   "source": [
    "def BadVersion(lst):\n",
    "    start=0\n",
    "    end=len(lst)-1\n",
    "    while(start<=end):\n",
    "        mid=start+(end-start)//2\n",
    "        if lst[mid]==1 and lst[mid-1]==0:\n",
    "            return mid\n",
    "        elif lst[mid]==0:\n",
    "            start=mid+1\n",
    "        else:\n",
    "            end=mid-1\n",
    "            \n",
    "#Driver code\n",
    "print(BadVersion([0,0,0,1,1,1,1,1]))\n",
    "            "
   ]
  },
  {
   "cell_type": "markdown",
   "id": "824d955f",
   "metadata": {},
   "source": [
    "**Time complexity is O(logn) for above Bad Version code**"
   ]
  },
  {
   "cell_type": "markdown",
   "id": "d95bf640",
   "metadata": {},
   "source": [
    "**Perfect square**"
   ]
  },
  {
   "cell_type": "code",
   "execution_count": 3,
   "id": "bedfce36",
   "metadata": {},
   "outputs": [
    {
     "name": "stdout",
     "output_type": "stream",
     "text": [
      "True\n"
     ]
    }
   ],
   "source": [
    "def PerfectSquare(x):\n",
    "    start = 1\n",
    "    end = x\n",
    "    while start <= end:\n",
    "        mid = start + (end-start)// 2\n",
    "        if mid * mid == x:\n",
    "            return True\n",
    "        elif mid * mid < x:\n",
    "            start = mid + 1\n",
    "            \n",
    "        else:\n",
    "            end = mid - 1\n",
    "    return False\n",
    "\n",
    "#Driver code\n",
    "print(PerfectSquare(4))"
   ]
  },
  {
   "cell_type": "markdown",
   "id": "c7976e81",
   "metadata": {},
   "source": [
    "**Time complexity is O(logn) for above Perfect square code**"
   ]
  },
  {
   "cell_type": "code",
   "execution_count": null,
   "id": "06133cf0",
   "metadata": {},
   "outputs": [],
   "source": []
  }
 ],
 "metadata": {
  "kernelspec": {
   "display_name": "Python 3 (ipykernel)",
   "language": "python",
   "name": "python3"
  },
  "language_info": {
   "codemirror_mode": {
    "name": "ipython",
    "version": 3
   },
   "file_extension": ".py",
   "mimetype": "text/x-python",
   "name": "python",
   "nbconvert_exporter": "python",
   "pygments_lexer": "ipython3",
   "version": "3.9.12"
  }
 },
 "nbformat": 4,
 "nbformat_minor": 5
}
