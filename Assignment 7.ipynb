{
 "cells": [
  {
   "cell_type": "markdown",
   "id": "0997dc62",
   "metadata": {},
   "source": [
    "**Given an integer array nums of length n and an integer target, find three integers in nums\n",
    "such that the sum is closest to the target.**"
   ]
  },
  {
   "cell_type": "code",
   "execution_count": 1,
   "id": "3f3c9f82",
   "metadata": {},
   "outputs": [
    {
     "name": "stdout",
     "output_type": "stream",
     "text": [
      "2\n"
     ]
    }
   ],
   "source": [
    "def closest(arr,target):\n",
    "    arr.sort()\n",
    "    \n",
    "    closest_sum=arr[0]+arr[1]+arr[2]\n",
    "    for i in range(len(arr)-2):\n",
    "        p=i+1\n",
    "        q=len(arr)-1\n",
    "        while(p<q):\n",
    "            current_sum=arr[i]+arr[p]+arr[q]\n",
    "            if abs(closest_sum-target)>abs(current_sum-target):\n",
    "                closest_sum=current_sum\n",
    "            if current_sum>target:\n",
    "                q-=1\n",
    "            else:\n",
    "                p+=1\n",
    "    return closest_sum\n",
    "\n",
    "#Driver code\n",
    "arr= [-1, 2, 1, -4]\n",
    "target=1\n",
    "print(closest(arr,target))"
   ]
  },
  {
   "cell_type": "markdown",
   "id": "062afd74",
   "metadata": {},
   "source": [
    "**Given three points, check whether they lie on a straight (collinear) or not.**"
   ]
  },
  {
   "cell_type": "code",
   "execution_count": 2,
   "id": "2ad124ac",
   "metadata": {},
   "outputs": [
    {
     "name": "stdout",
     "output_type": "stream",
     "text": [
      "Yes\n"
     ]
    }
   ],
   "source": [
    "def collinear(x1,y1,x2,y2,x3,y3):\n",
    "    if (y2-y1)*(x3-x2)==(x2-x1)*(y3-y2):\n",
    "        return \"Yes\"\n",
    "    return \"No\"\n",
    "\n",
    "#Driver code\n",
    "\n",
    "print(collinear(1,1,1,4,1,5))"
   ]
  },
  {
   "cell_type": "markdown",
   "id": "84cebcc3",
   "metadata": {},
   "source": [
    "**An e-commerce site tracks the purchases made each day. The product that is purchased\n",
    "the most one day is the featured product for the following day. If there is a tie for the product\n",
    "purchased most frequently, those product names are ordered alphabetically ascending and\n",
    "the last name in the list is chosen.**"
   ]
  },
  {
   "cell_type": "code",
   "execution_count": 3,
   "id": "5952b678",
   "metadata": {},
   "outputs": [
    {
     "name": "stdout",
     "output_type": "stream",
     "text": [
      "greenPants\n"
     ]
    }
   ],
   "source": [
    "def repeat(lst):\n",
    "    lst.sort()\n",
    "    d={}\n",
    "    max=0\n",
    "    for i in lst:\n",
    "        if i not in d:\n",
    "            d[i]=0\n",
    "        else:\n",
    "            d[i]+=1\n",
    "    for key,value in d.items():\n",
    "        if max<value:\n",
    "            max=value\n",
    "    keys=[key for key,value in d.items() if value==max]\n",
    "    print(keys[-1])\n",
    "        \n",
    "    \n",
    "#Driver code\n",
    "repeat(['yellowShirt', 'redHat', 'blackShirt', 'bluePants', 'redHat','pinkHat', 'blackShirt', 'yellowShirt',\n",
    "'greenPants', 'greenPants', 'greenPants'])  "
   ]
  },
  {
   "cell_type": "markdown",
   "id": "0a1314f9",
   "metadata": {},
   "source": [
    "**An almost sorted array is given to us and the task is to sort that array completely. Then,\n",
    "which sorting algorithm would you prefer and why?**"
   ]
  },
  {
   "cell_type": "markdown",
   "id": "3b0512ab",
   "metadata": {},
   "source": [
    "Insertion sort is best for almost sorted array.Because in this case No. of swaps are less and time complexity for compute the sort is only o(n)"
   ]
  },
  {
   "cell_type": "code",
   "execution_count": null,
   "id": "8c3fb73d",
   "metadata": {},
   "outputs": [],
   "source": []
  }
 ],
 "metadata": {
  "kernelspec": {
   "display_name": "Python 3 (ipykernel)",
   "language": "python",
   "name": "python3"
  },
  "language_info": {
   "codemirror_mode": {
    "name": "ipython",
    "version": 3
   },
   "file_extension": ".py",
   "mimetype": "text/x-python",
   "name": "python",
   "nbconvert_exporter": "python",
   "pygments_lexer": "ipython3",
   "version": "3.9.12"
  }
 },
 "nbformat": 4,
 "nbformat_minor": 5
}
